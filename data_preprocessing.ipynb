{
 "cells": [
  {
   "cell_type": "code",
   "execution_count": 1,
   "id": "sunrise-damage",
   "metadata": {},
   "outputs": [],
   "source": [
    "import random\n",
    "import imghdr\n",
    "import shutil\n",
    "import os\n",
    "import tensorflow as tf\n",
    "import pandas as pd"
   ]
  },
  {
   "cell_type": "markdown",
   "id": "sized-boards",
   "metadata": {},
   "source": [
    "## Data preprocessing"
   ]
  },
  {
   "cell_type": "code",
   "execution_count": 2,
   "id": "satellite-acrylic",
   "metadata": {},
   "outputs": [],
   "source": [
    "os.chdir('/home/dell/Documentos/Untitled Folder/')\n",
    "\n",
    "# lê arquivos .txt gerados pelo COVID-Net\n",
    "train_labels = pd.read_csv(\"train_split.txt\", sep=\" \",header=None)\n",
    "test_labels = pd.read_csv(\"test_split.txt\", sep=\" \",header=None)\n",
    "\n",
    "# renomeia colunas\n",
    "\n",
    "train_labels.columns = ['id', 'image', 'label', 'database']\n",
    "test_labels.columns = ['id', 'image', 'label', 'database']\n"
   ]
  },
  {
   "cell_type": "code",
   "execution_count": 3,
   "id": "adjustable-reset",
   "metadata": {},
   "outputs": [
    {
     "data": {
      "text/plain": [
       "(17226, 2)"
      ]
     },
     "execution_count": 3,
     "metadata": {},
     "output_type": "execute_result"
    }
   ],
   "source": [
    "# mantendo as colunas que importam\n",
    "\n",
    "train_labels = train_labels[['image','label']]\n",
    "test_labels = test_labels[['image','label']]\n",
    "\n",
    "train_labels.shape"
   ]
  },
  {
   "cell_type": "code",
   "execution_count": 6,
   "id": "aquatic-sponsorship",
   "metadata": {},
   "outputs": [
    {
     "data": {
      "text/plain": [
       "(3445, 2)"
      ]
     },
     "execution_count": 6,
     "metadata": {},
     "output_type": "execute_result"
    }
   ],
   "source": [
    "# cria dataset de validação\n",
    "seed(47)\n",
    "\n",
    "val_labels = train_labels.sample(frac=0.2)\n",
    "val_labels.shape"
   ]
  },
  {
   "cell_type": "code",
   "execution_count": 7,
   "id": "brave-wedding",
   "metadata": {},
   "outputs": [
    {
     "data": {
      "text/plain": [
       "(13781, 2)"
      ]
     },
     "execution_count": 7,
     "metadata": {},
     "output_type": "execute_result"
    }
   ],
   "source": [
    "# separa treino de validação\n",
    "\n",
    "new_train_image = []\n",
    "new_train_label = []\n",
    "\n",
    "for i in range(train_labels.shape[0]):\n",
    "    \n",
    "    if train_labels['image'][i] not in val_labels['image'].tolist():\n",
    "        new_train_image.append(train_labels['image'][i])\n",
    "        new_train_label.append(train_labels['label'][i])\n",
    "        \n",
    "\n",
    "new_train_dataset = pd.DataFrame()\n",
    "new_train_dataset['image'] = new_train_image\n",
    "new_train_dataset['label'] = new_train_label\n",
    "\n",
    "train_labels = new_train_dataset.copy()\n",
    "train_labels.shape"
   ]
  },
  {
   "cell_type": "markdown",
   "id": "raised-patch",
   "metadata": {},
   "source": [
    "### Distribuição das classes"
   ]
  },
  {
   "cell_type": "code",
   "execution_count": 8,
   "id": "authentic-weather",
   "metadata": {},
   "outputs": [
    {
     "data": {
      "text/plain": [
       "negative    12067\n",
       "positive     1714\n",
       "Name: label, dtype: int64"
      ]
     },
     "execution_count": 8,
     "metadata": {},
     "output_type": "execute_result"
    }
   ],
   "source": [
    "train_labels['label'].value_counts()"
   ]
  },
  {
   "cell_type": "code",
   "execution_count": 9,
   "id": "unknown-sewing",
   "metadata": {},
   "outputs": [
    {
     "data": {
      "text/plain": [
       "positive    291\n",
       "negative    100\n",
       "Name: label, dtype: int64"
      ]
     },
     "execution_count": 9,
     "metadata": {},
     "output_type": "execute_result"
    }
   ],
   "source": [
    "test_labels['label'].value_counts()"
   ]
  },
  {
   "cell_type": "code",
   "execution_count": 10,
   "id": "strong-string",
   "metadata": {},
   "outputs": [
    {
     "data": {
      "text/plain": [
       "negative    3001\n",
       "positive     444\n",
       "Name: label, dtype: int64"
      ]
     },
     "execution_count": 10,
     "metadata": {},
     "output_type": "execute_result"
    }
   ],
   "source": [
    "val_labels['label'].value_counts()"
   ]
  },
  {
   "cell_type": "markdown",
   "id": "compliant-turkey",
   "metadata": {},
   "source": [
    "## Movendo os arquivos para os diretórios corretos"
   ]
  },
  {
   "cell_type": "code",
   "execution_count": null,
   "id": "vital-market",
   "metadata": {},
   "outputs": [],
   "source": [
    "os.chdir('/home/dell/Documentos/COVID-Net/data/train/') # Diretório do treino gerado pelo COVID-Net\n",
    "\n",
    "dir_train = '/home/dell/Documentos/Untitled Folder/data/train/' # diretório final treino\n",
    "dir_test = '/home/dell/Documentos/Untitled Folder/data/test/' # diretório final teste\n",
    "dir_val = '/home/dell/Documentos/Untitled Folder/data/val/' # diretório final validação\n",
    "\n",
    "bad_list = []\n",
    "\n",
    "# Copia treino e validação\n",
    "for f in os.listdir():\n",
    "    if str(f) in train_labels['image'].tolist():\n",
    "        \n",
    "        index_train = train_labels[train_labels['image']==f].index.values\n",
    "        label = train_labels['label'].loc[index_train].values[0]\n",
    "        shutil.copy(f, os.path.join(dir_train, label))\n",
    "    \n",
    "    elif str(f) in val_labels['image'].tolist():\n",
    "        \n",
    "        index_val = val_labels[val_labels['image']==f].index.values\n",
    "        label = val_labels['label'].loc[index_val].values[0]\n",
    "        shutil.copy(f, os.path.join(dir_val, label))\n",
    "        "
   ]
  },
  {
   "cell_type": "code",
   "execution_count": null,
   "id": "fifty-meeting",
   "metadata": {},
   "outputs": [],
   "source": [
    "os.chdir('/home/dell/Documentos/COVID-Net/data/test/')\n",
    "\n",
    "\n",
    "# Copia teste\n",
    "\n",
    "for f in os.listdir():\n",
    "    if str(f) in test_labels['image'].tolist():\n",
    "        \n",
    "        index_test = test_labels[test_labels['image']==f].index.values\n",
    "        label = test_labels['label'].loc[index_test].values[0]\n",
    "        shutil.copy(f, os.path.join(dir_test, label))\n",
    "    else:\n",
    "        print('?')\n",
    "        print(f)\n",
    "        \n"
   ]
  },
  {
   "cell_type": "code",
   "execution_count": 13,
   "id": "apparent-floor",
   "metadata": {},
   "outputs": [
    {
     "name": "stdout",
     "output_type": "stream",
     "text": [
      "Found 391 files belonging to 2 classes.\n"
     ]
    }
   ],
   "source": [
    "from tensorflow.keras.preprocessing import image_dataset_from_directory\n",
    "test_dir = \"/home/dell/Documentos/Untitled Folder/data/test/\"\n",
    "\n",
    "test_dataset = image_dataset_from_directory(test_dir,\n",
    "                                                  shuffle=True,\n",
    "                                                  labels=\"inferred\",\n",
    "                                                  label_mode=\"int\",\n",
    "                                                  batch_size=32,\n",
    "                                                  image_size=(150, 150))\n"
   ]
  }
 ],
 "metadata": {
  "kernelspec": {
   "display_name": "Python [conda env:tensorflow] *",
   "language": "python",
   "name": "conda-env-tensorflow-py"
  },
  "language_info": {
   "codemirror_mode": {
    "name": "ipython",
    "version": 3
   },
   "file_extension": ".py",
   "mimetype": "text/x-python",
   "name": "python",
   "nbconvert_exporter": "python",
   "pygments_lexer": "ipython3",
   "version": "3.8.11"
  }
 },
 "nbformat": 4,
 "nbformat_minor": 5
}
